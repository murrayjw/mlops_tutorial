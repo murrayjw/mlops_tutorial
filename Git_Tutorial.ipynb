{
 "cells": [
  {
   "cell_type": "markdown",
   "metadata": {},
   "source": [
    "## Crash course to Git\n",
    "\n",
    "### Git the first step to build reproducible experiments\n",
    "\n",
    "Our first focus is how to build reproducible experiments. The experiments are unique within ML lifecycle which rarely exists in regular software engineering world. In SE we mostly know what we want to build and how we should build it. But in ML, we should go over several rounds of experimentation to come up with the set of features, algorithms, and hyperparameters to come up with the best model. The experiment is a loop of sadness where we have a hypothesis, we test it, and then we evaluate how it performs. If it meets the requirements, then we're done, if not, we should repeat with the next best educated guess.\n",
    "\n",
    "In the ML world, the result of an experiment, is a machine learning model. A machine learning model is the result of a marriage between code and data with a set of hyperparameters that should be executed on a certain piece of hardware.\n",
    "In order to make this experiment reproducible, we need to be able to version or take snapshots of every component used to produce the model.\n",
    "\n",
    "First we start with versioning the code. One of the most powerful and popular source control technologies is Git. Git is built by the founder of Linux to develop Linux. Since then, it has gain popularity to the extent that is now probably the only technology used to version software projects. Git is a free to use on your development environment. There are several commercial git base repositories, such as GitHub, Azure DevOps, GitLab, BitBucket, etc. which also provide free tier to host your code.\n",
    "\n",
    "Now let's dive into the git commands!"
   ]
  },
  {
   "cell_type": "markdown",
   "metadata": {},
   "source": [
    "### Instructions for this tutorial\n",
    "\n",
    "To complete this tutorial, you need to open a VSCode, a file explorer and a command prompt."
   ]
  },
  {
   "cell_type": "code",
   "execution_count": 1,
   "metadata": {},
   "outputs": [],
   "source": [
    "## Opens the VS Code\n",
    "!code ."
   ]
  },
  {
   "cell_type": "code",
   "execution_count": 13,
   "metadata": {},
   "outputs": [],
   "source": [
    "## Opens the Command Promp\n",
    "!start"
   ]
  },
  {
   "cell_type": "code",
   "execution_count": 3,
   "metadata": {},
   "outputs": [],
   "source": [
    "## Opens the Windows Explorer\n",
    "!start .."
   ]
  },
  {
   "cell_type": "code",
   "execution_count": 18,
   "metadata": {},
   "outputs": [
    {
     "name": "stdout",
     "output_type": "stream",
     "text": [
      "Microsoft Windows [Version 10.0.15063]\r\n",
      "(c) 2017 Microsoft Corporation. All rights reserved.\r\n",
      "\r\n",
      "(azureml) C:\\Users\\murrayj\\Documents\\mlops>\n",
      "(azureml) C:\\Users\\murrayj\\Documents\\mlops>ls -ah\n",
      ".\n",
      "..\n",
      ".ipynb_checkpoints\n",
      "Git_Tutorial.ipynb\n",
      "example.py\n",
      "\r\n",
      "(azureml) C:\\Users\\murrayj\\Documents\\mlops>"
     ]
    }
   ],
   "source": [
    "%%cmd\n",
    "\n",
    "ls -ah"
   ]
  },
  {
   "cell_type": "code",
   "execution_count": 20,
   "metadata": {},
   "outputs": [
    {
     "name": "stdout",
     "output_type": "stream",
     "text": [
      "Microsoft Windows [Version 10.0.15063]\r\n",
      "(c) 2017 Microsoft Corporation. All rights reserved.\r\n",
      "\r\n",
      "(azureml) C:\\Users\\murrayj\\Documents\\mlops>\n",
      "(azureml) C:\\Users\\murrayj\\Documents\\mlops>\n",
      "(azureml) C:\\Users\\murrayj\\Documents\\mlops>git config --global user.email \"murrayj@smh.ca\"\n",
      "\r\n",
      "(azureml) C:\\Users\\murrayj\\Documents\\mlops>git config --global user.name \"Joshua Murray\"\n",
      "\r\n",
      "(azureml) C:\\Users\\murrayj\\Documents\\mlops>"
     ]
    }
   ],
   "source": [
    "%%cmd\n",
    "\n",
    "\n",
    "git config --global user.email \"murrayj@smh.ca\"\n",
    "git config --global user.name \"Joshua Murray\""
   ]
  },
  {
   "cell_type": "markdown",
   "metadata": {},
   "source": [
    "Initializing the Git environment on your local computer"
   ]
  },
  {
   "cell_type": "code",
   "execution_count": 22,
   "metadata": {},
   "outputs": [
    {
     "name": "stdout",
     "output_type": "stream",
     "text": [
      "Microsoft Windows [Version 10.0.15063]\r\n",
      "(c) 2017 Microsoft Corporation. All rights reserved.\r\n",
      "\r\n",
      "(azureml) C:\\Users\\murrayj\\Documents\\mlops>\n",
      "(azureml) C:\\Users\\murrayj\\Documents\\mlops>git init\n",
      "Initialized empty Git repository in C:/Users/murrayj/Documents/mlops/.git/\n",
      "\r\n",
      "(azureml) C:\\Users\\murrayj\\Documents\\mlops>"
     ]
    }
   ],
   "source": [
    "%%cmd\n",
    "\n",
    "git init"
   ]
  },
  {
   "cell_type": "code",
   "execution_count": 23,
   "metadata": {},
   "outputs": [
    {
     "name": "stdout",
     "output_type": "stream",
     "text": [
      "Microsoft Windows [Version 10.0.15063]\r\n",
      "(c) 2017 Microsoft Corporation. All rights reserved.\r\n",
      "\r\n",
      "(azureml) C:\\Users\\murrayj\\Documents\\mlops>ls -ah\n",
      ".\n",
      "..\n",
      ".git\n",
      ".ipynb_checkpoints\n",
      "Git_Tutorial.ipynb\n",
      "example.py\n",
      "\r\n",
      "(azureml) C:\\Users\\murrayj\\Documents\\mlops>"
     ]
    }
   ],
   "source": [
    "%%cmd\n",
    "ls -ah"
   ]
  },
  {
   "cell_type": "code",
   "execution_count": 24,
   "metadata": {},
   "outputs": [
    {
     "name": "stdout",
     "output_type": "stream",
     "text": [
      "Microsoft Windows [Version 10.0.15063]\r\n",
      "(c) 2017 Microsoft Corporation. All rights reserved.\r\n",
      "\r\n",
      "(azureml) C:\\Users\\murrayj\\Documents\\mlops>\n",
      "(azureml) C:\\Users\\murrayj\\Documents\\mlops>cat .git/HEAD\n",
      "ref: refs/heads/master\n",
      "\r\n",
      "(azureml) C:\\Users\\murrayj\\Documents\\mlops>"
     ]
    }
   ],
   "source": [
    "%%cmd\n",
    "\n",
    "cat .git/HEAD"
   ]
  },
  {
   "cell_type": "code",
   "execution_count": 25,
   "metadata": {},
   "outputs": [
    {
     "name": "stdout",
     "output_type": "stream",
     "text": [
      "Microsoft Windows [Version 10.0.15063]\r\n",
      "(c) 2017 Microsoft Corporation. All rights reserved.\r\n",
      "\r\n",
      "(azureml) C:\\Users\\murrayj\\Documents\\mlops>\n",
      "(azureml) C:\\Users\\murrayj\\Documents\\mlops>git status\n",
      "On branch master\n",
      "\n",
      "No commits yet\n",
      "\n",
      "Untracked files:\n",
      "  (use \"git add <file>...\" to include in what will be committed)\n",
      "\n",
      "\t.ipynb_checkpoints/\n",
      "\tGit_Tutorial.ipynb\n",
      "\texample.py\n",
      "\n",
      "nothing added to commit but untracked files present (use \"git add\" to track)\n",
      "\r\n",
      "(azureml) C:\\Users\\murrayj\\Documents\\mlops>"
     ]
    }
   ],
   "source": [
    "%%cmd\n",
    "\n",
    "git status"
   ]
  },
  {
   "cell_type": "markdown",
   "metadata": {},
   "source": [
    "### Git Ignore\n",
    "\n",
    "Creating .gitignore. This file instructs Git on what should be ignored from being tracked or staged."
   ]
  },
  {
   "cell_type": "code",
   "execution_count": 26,
   "metadata": {},
   "outputs": [
    {
     "name": "stdout",
     "output_type": "stream",
     "text": [
      "Microsoft Windows [Version 10.0.15063]\r\n",
      "(c) 2017 Microsoft Corporation. All rights reserved.\r\n",
      "\r\n",
      "(azureml) C:\\Users\\murrayj\\Documents\\mlops>\n",
      "(azureml) C:\\Users\\murrayj\\Documents\\mlops>echo \"/.ipynb_checkpoints\" > .gitignore\n",
      "\r\n",
      "(azureml) C:\\Users\\murrayj\\Documents\\mlops>echo \"Git_Tutorial.ipynb\" >> .gitignore\n",
      "\r\n",
      "(azureml) C:\\Users\\murrayj\\Documents\\mlops>echo \"/assets\" >> .gitignore\n",
      "\r\n",
      "(azureml) C:\\Users\\murrayj\\Documents\\mlops>echo \"*.csv\" >> .gitignore\n",
      "\r\n",
      "(azureml) C:\\Users\\murrayj\\Documents\\mlops>cat .gitignore\n",
      "\"/.ipynb_checkpoints\" \r\n",
      "\"Git_Tutorial.ipynb\" \r\n",
      "\"/assets\" \r\n",
      "\"*.csv\" \r\n",
      "\r\n",
      "(azureml) C:\\Users\\murrayj\\Documents\\mlops>"
     ]
    }
   ],
   "source": [
    "%%cmd\n",
    "\n",
    "echo \"/.ipynb_checkpoints\" > .gitignore\n",
    "echo \"Git_Tutorial.ipynb\" >> .gitignore\n",
    "echo \"/assets\" >> .gitignore\n",
    "echo \"*.csv\" >> .gitignore\n",
    "cat .gitignore"
   ]
  },
  {
   "cell_type": "code",
   "execution_count": 27,
   "metadata": {},
   "outputs": [
    {
     "name": "stdout",
     "output_type": "stream",
     "text": [
      "Microsoft Windows [Version 10.0.15063]\r\n",
      "(c) 2017 Microsoft Corporation. All rights reserved.\r\n",
      "\r\n",
      "(azureml) C:\\Users\\murrayj\\Documents\\mlops>\n",
      "(azureml) C:\\Users\\murrayj\\Documents\\mlops>git status\n",
      "On branch master\n",
      "\n",
      "No commits yet\n",
      "\n",
      "Untracked files:\n",
      "  (use \"git add <file>...\" to include in what will be committed)\n",
      "\n",
      "\t.gitignore\n",
      "\t.ipynb_checkpoints/\n",
      "\tGit_Tutorial.ipynb\n",
      "\texample.py\n",
      "\n",
      "nothing added to commit but untracked files present (use \"git add\" to track)\n",
      "\r\n",
      "(azureml) C:\\Users\\murrayj\\Documents\\mlops>"
     ]
    }
   ],
   "source": [
    "%%cmd\n",
    "\n",
    "git status"
   ]
  },
  {
   "cell_type": "code",
   "execution_count": 28,
   "metadata": {},
   "outputs": [
    {
     "name": "stdout",
     "output_type": "stream",
     "text": [
      "Microsoft Windows [Version 10.0.15063]\r\n",
      "(c) 2017 Microsoft Corporation. All rights reserved.\r\n",
      "\r\n",
      "(azureml) C:\\Users\\murrayj\\Documents\\mlops>\n",
      "(azureml) C:\\Users\\murrayj\\Documents\\mlops>echo \"print('this is the training code!')\" > training.py\n",
      "\r\n",
      "(azureml) C:\\Users\\murrayj\\Documents\\mlops>"
     ]
    }
   ],
   "source": [
    "%%cmd\n",
    "\n",
    "echo \"print('this is the training code!')\" > training.py"
   ]
  },
  {
   "cell_type": "code",
   "execution_count": 29,
   "metadata": {},
   "outputs": [
    {
     "name": "stdout",
     "output_type": "stream",
     "text": [
      "Microsoft Windows [Version 10.0.15063]\r\n",
      "(c) 2017 Microsoft Corporation. All rights reserved.\r\n",
      "\r\n",
      "(azureml) C:\\Users\\murrayj\\Documents\\mlops>\n",
      "(azureml) C:\\Users\\murrayj\\Documents\\mlops>git status\n",
      "On branch master\n",
      "\n",
      "No commits yet\n",
      "\n",
      "Untracked files:\n",
      "  (use \"git add <file>...\" to include in what will be committed)\n",
      "\n",
      "\t.gitignore\n",
      "\t.ipynb_checkpoints/\n",
      "\tGit_Tutorial.ipynb\n",
      "\texample.py\n",
      "\ttraining.py\n",
      "\n",
      "nothing added to commit but untracked files present (use \"git add\" to track)\n",
      "\r\n",
      "(azureml) C:\\Users\\murrayj\\Documents\\mlops>"
     ]
    }
   ],
   "source": [
    "%%cmd\n",
    "\n",
    "git status"
   ]
  },
  {
   "cell_type": "code",
   "execution_count": 30,
   "metadata": {},
   "outputs": [
    {
     "name": "stdout",
     "output_type": "stream",
     "text": [
      "Microsoft Windows [Version 10.0.15063]\r\n",
      "(c) 2017 Microsoft Corporation. All rights reserved.\r\n",
      "\r\n",
      "(azureml) C:\\Users\\murrayj\\Documents\\mlops>\n",
      "(azureml) C:\\Users\\murrayj\\Documents\\mlops>git add training.py\n",
      "\r\n",
      "(azureml) C:\\Users\\murrayj\\Documents\\mlops>\n",
      "(azureml) C:\\Users\\murrayj\\Documents\\mlops># to add all files:\n",
      "\r\n",
      "(azureml) C:\\Users\\murrayj\\Documents\\mlops># git add .\n",
      "\r\n",
      "(azureml) C:\\Users\\murrayj\\Documents\\mlops>"
     ]
    },
    {
     "name": "stderr",
     "output_type": "stream",
     "text": [
      "'#' is not recognized as an internal or external command,\r\n",
      "operable program or batch file.\r\n",
      "'#' is not recognized as an internal or external command,\r\n",
      "operable program or batch file.\r\n"
     ]
    }
   ],
   "source": [
    "%%cmd\n",
    "\n",
    "git add training.py\n"
   ]
  },
  {
   "cell_type": "code",
   "execution_count": 31,
   "metadata": {},
   "outputs": [
    {
     "name": "stdout",
     "output_type": "stream",
     "text": [
      "Microsoft Windows [Version 10.0.15063]\r\n",
      "(c) 2017 Microsoft Corporation. All rights reserved.\r\n",
      "\r\n",
      "(azureml) C:\\Users\\murrayj\\Documents\\mlops>\n",
      "(azureml) C:\\Users\\murrayj\\Documents\\mlops>git status\n",
      "On branch master\n",
      "\n",
      "No commits yet\n",
      "\n",
      "Changes to be committed:\n",
      "  (use \"git rm --cached <file>...\" to unstage)\n",
      "\n",
      "\tnew file:   training.py\n",
      "\n",
      "Untracked files:\n",
      "  (use \"git add <file>...\" to include in what will be committed)\n",
      "\n",
      "\t.gitignore\n",
      "\t.ipynb_checkpoints/\n",
      "\tGit_Tutorial.ipynb\n",
      "\texample.py\n",
      "\n",
      "\r\n",
      "(azureml) C:\\Users\\murrayj\\Documents\\mlops>"
     ]
    }
   ],
   "source": [
    "%%cmd\n",
    "\n",
    "git status"
   ]
  },
  {
   "cell_type": "code",
   "execution_count": 32,
   "metadata": {},
   "outputs": [
    {
     "name": "stdout",
     "output_type": "stream",
     "text": [
      "Microsoft Windows [Version 10.0.15063]\r\n",
      "(c) 2017 Microsoft Corporation. All rights reserved.\r\n",
      "\r\n",
      "(azureml) C:\\Users\\murrayj\\Documents\\mlops>\n",
      "(azureml) C:\\Users\\murrayj\\Documents\\mlops>git commit -m \"First commit!\"\n",
      "[master (root-commit) 53c65b6] First commit!\n",
      " 1 file changed, 1 insertion(+)\n",
      " create mode 100644 training.py\n",
      "\r\n",
      "(azureml) C:\\Users\\murrayj\\Documents\\mlops>"
     ]
    }
   ],
   "source": [
    "%%cmd\n",
    "\n",
    "git commit -m \"First commit!\""
   ]
  },
  {
   "cell_type": "code",
   "execution_count": 33,
   "metadata": {},
   "outputs": [
    {
     "name": "stdout",
     "output_type": "stream",
     "text": [
      "Microsoft Windows [Version 10.0.15063]\r\n",
      "(c) 2017 Microsoft Corporation. All rights reserved.\r\n",
      "\r\n",
      "(azureml) C:\\Users\\murrayj\\Documents\\mlops>\n",
      "(azureml) C:\\Users\\murrayj\\Documents\\mlops>git status\n",
      "On branch master\n",
      "Untracked files:\n",
      "  (use \"git add <file>...\" to include in what will be committed)\n",
      "\n",
      "\t.gitignore\n",
      "\t.ipynb_checkpoints/\n",
      "\tGit_Tutorial.ipynb\n",
      "\texample.py\n",
      "\n",
      "nothing added to commit but untracked files present (use \"git add\" to track)\n",
      "\r\n",
      "(azureml) C:\\Users\\murrayj\\Documents\\mlops>"
     ]
    }
   ],
   "source": [
    "%%cmd\n",
    "\n",
    "git status"
   ]
  },
  {
   "cell_type": "code",
   "execution_count": 34,
   "metadata": {},
   "outputs": [
    {
     "name": "stdout",
     "output_type": "stream",
     "text": [
      "Microsoft Windows [Version 10.0.15063]\r\n",
      "(c) 2017 Microsoft Corporation. All rights reserved.\r\n",
      "\r\n",
      "(azureml) C:\\Users\\murrayj\\Documents\\mlops>\n",
      "(azureml) C:\\Users\\murrayj\\Documents\\mlops>echo \"print('this is the inference code!')\" > inference.py\n",
      "\r\n",
      "(azureml) C:\\Users\\murrayj\\Documents\\mlops>"
     ]
    }
   ],
   "source": [
    "%%cmd\n",
    "\n",
    "echo \"print('this is the inference code!')\" > inference.py"
   ]
  },
  {
   "cell_type": "code",
   "execution_count": 35,
   "metadata": {},
   "outputs": [
    {
     "name": "stdout",
     "output_type": "stream",
     "text": [
      "Microsoft Windows [Version 10.0.15063]\r\n",
      "(c) 2017 Microsoft Corporation. All rights reserved.\r\n",
      "\r\n",
      "(azureml) C:\\Users\\murrayj\\Documents\\mlops>\n",
      "(azureml) C:\\Users\\murrayj\\Documents\\mlops>git add .\n",
      "\r\n",
      "(azureml) C:\\Users\\murrayj\\Documents\\mlops>git commit -m \"adding inference logic!\"\n",
      "[master 746121b] adding inference logic!\n",
      " 5 files changed, 3167 insertions(+)\n",
      " create mode 100644 .gitignore\n",
      " create mode 100644 .ipynb_checkpoints/Git_Tutorial-checkpoint.ipynb\n",
      " create mode 100644 Git_Tutorial.ipynb\n",
      " create mode 100644 example.py\n",
      " create mode 100644 inference.py\n",
      "\r\n",
      "(azureml) C:\\Users\\murrayj\\Documents\\mlops>"
     ]
    },
    {
     "name": "stderr",
     "output_type": "stream",
     "text": [
      "warning: LF will be replaced by CRLF in .ipynb_checkpoints/Git_Tutorial-checkpoint.ipynb.\n",
      "The file will have its original line endings in your working directory\n",
      "warning: LF will be replaced by CRLF in Git_Tutorial.ipynb.\n",
      "The file will have its original line endings in your working directory\n"
     ]
    }
   ],
   "source": [
    "%%cmd\n",
    "\n",
    "git add .\n",
    "git commit -m \"adding inference logic!\""
   ]
  },
  {
   "cell_type": "code",
   "execution_count": 36,
   "metadata": {},
   "outputs": [
    {
     "name": "stdout",
     "output_type": "stream",
     "text": [
      "Microsoft Windows [Version 10.0.15063]\r\n",
      "(c) 2017 Microsoft Corporation. All rights reserved.\r\n",
      "\r\n",
      "(azureml) C:\\Users\\murrayj\\Documents\\mlops>\n",
      "(azureml) C:\\Users\\murrayj\\Documents\\mlops>git status\n",
      "On branch master\n",
      "nothing to commit, working tree clean\n",
      "\r\n",
      "(azureml) C:\\Users\\murrayj\\Documents\\mlops>"
     ]
    }
   ],
   "source": [
    "%%cmd\n",
    "\n",
    "git status"
   ]
  },
  {
   "cell_type": "code",
   "execution_count": 43,
   "metadata": {},
   "outputs": [
    {
     "name": "stdout",
     "output_type": "stream",
     "text": [
      "[master 2a84cf1] Commit for random change 10\n",
      " 1 file changed, 2 insertions(+)\n",
      "[master 8408f9c] Commit for random change 8\n",
      " 1 file changed, 1 insertion(+)\n",
      "[master b5251fe] Commit for random change 6\n",
      " 1 file changed, 1 insertion(+)\n",
      "[master dd1851e] Commit for random change 4\n",
      " 1 file changed, 1 insertion(+)\n",
      "[master 0d1f4be] Commit for random change 2\n",
      " 1 file changed, 1 insertion(+)\n",
      "[master 44de4d0] Commit for random change 0\n",
      " 1 file changed, 1 insertion(+)\n"
     ]
    }
   ],
   "source": [
    "%%bash\n",
    "\n",
    "for value in {1..5..1}\n",
    "do\n",
    "    echo \"print('Some random changes $value')\" >> training.py\n",
    "    git add training.py\n",
    "    git commit -m \"Commit for random change $value\"\n",
    "done\n"
   ]
  },
  {
   "cell_type": "code",
   "execution_count": 2,
   "metadata": {},
   "outputs": [],
   "source": [
    "%%bash\n",
    "\n",
    "for value in {1..5..1}\n",
    "do\n",
    "    echo \"print('Some random changes $value')\" >> training.py\n",
    "done"
   ]
  },
  {
   "cell_type": "code",
   "execution_count": 48,
   "metadata": {},
   "outputs": [
    {
     "name": "stdout",
     "output_type": "stream",
     "text": [
      "commit 44de4d0615d675b18c8ea8b935be912b379511c5\n",
      "Author: Hossein Sarshar <hossein.sarshar@gmail.com>\n",
      "Date:   Thu Oct 3 21:51:37 2019 -0400\n",
      "\n",
      "    Commit for random change 0\n",
      "\n",
      "commit 0d1f4be28b3d1fbdb9016de92fcb7dd3aad22b3f\n",
      "Author: Hossein Sarshar <hossein.sarshar@gmail.com>\n",
      "Date:   Thu Oct 3 21:51:37 2019 -0400\n",
      "\n",
      "    Commit for random change 2\n",
      "\n",
      "commit dd1851e5011bd6cc090f39ebba86244e63ff5907\n",
      "Author: Hossein Sarshar <hossein.sarshar@gmail.com>\n",
      "Date:   Thu Oct 3 21:51:37 2019 -0400\n",
      "\n",
      "    Commit for random change 4\n",
      "\n",
      "commit b5251fe84d26fd1b624cf794e3f01854d513a4b5\n",
      "Author: Hossein Sarshar <hossein.sarshar@gmail.com>\n",
      "Date:   Thu Oct 3 21:51:36 2019 -0400\n",
      "\n",
      "    Commit for random change 6\n",
      "\n",
      "commit 8408f9c9ec9dcd592fb43702968ddf9eeb7c836c\n",
      "Author: Hossein Sarshar <hossein.sarshar@gmail.com>\n",
      "Date:   Thu Oct 3 21:51:36 2019 -0400\n",
      "\n",
      "    Commit for random change 8\n",
      "\n",
      "commit 2a84cf144da7d36ddb34cbeb616062c25bea4570\n",
      "Author: Hossein Sarshar <hossein.sarshar@gmail.com>\n",
      "Date:   Thu Oct 3 21:51:36 2019 -0400\n",
      "\n",
      "    Commit for random change 10\n",
      "\n",
      "commit 296ec6d35e308ac98c33639bbccb8afb2a342afd\n",
      "Author: Hossein Sarshar <hossein.sarshar@gmail.com>\n",
      "Date:   Thu Oct 3 21:46:17 2019 -0400\n",
      "\n",
      "    First commit!\n"
     ]
    }
   ],
   "source": [
    "%%bash\n",
    "\n",
    "git log training.py"
   ]
  },
  {
   "cell_type": "code",
   "execution_count": 49,
   "metadata": {},
   "outputs": [
    {
     "name": "stdout",
     "output_type": "stream",
     "text": [
      "commit 44de4d0615d675b18c8ea8b935be912b379511c5\n",
      "Author: Hossein Sarshar <hossein.sarshar@gmail.com>\n",
      "Date:   Thu Oct 3 21:51:37 2019 -0400\n",
      "\n",
      "    Commit for random change 0\n",
      "\n",
      "diff --git a/training.py b/training.py\n",
      "index 25e08fb..3227014 100644\n",
      "--- a/training.py\n",
      "+++ b/training.py\n",
      "@@ -5,3 +5,4 @@ print('Some random changes 8')\n",
      " print('Some random changes 6')\n",
      " print('Some random changes 4')\n",
      " print('Some random changes 2')\n",
      "+print('Some random changes 0')\n",
      "\n",
      "commit 0d1f4be28b3d1fbdb9016de92fcb7dd3aad22b3f\n",
      "Author: Hossein Sarshar <hossein.sarshar@gmail.com>\n",
      "Date:   Thu Oct 3 21:51:37 2019 -0400\n",
      "\n",
      "    Commit for random change 2\n",
      "\n",
      "diff --git a/training.py b/training.py\n",
      "index 299807d..25e08fb 100644\n",
      "--- a/training.py\n",
      "+++ b/training.py\n",
      "@@ -4,3 +4,4 @@ print('Some random changes 10')\n",
      " print('Some random changes 8')\n",
      " print('Some random changes 6')\n",
      " print('Some random changes 4')\n",
      "+print('Some random changes 2')\n",
      "\n",
      "commit dd1851e5011bd6cc090f39ebba86244e63ff5907\n",
      "Author: Hossein Sarshar <hossein.sarshar@gmail.com>\n",
      "Date:   Thu Oct 3 21:51:37 2019 -0400\n",
      "\n",
      "    Commit for random change 4\n",
      "\n",
      "diff --git a/training.py b/training.py\n",
      "index 4c71578..299807d 100644\n",
      "--- a/training.py\n",
      "+++ b/training.py\n",
      "@@ -3,3 +3,4 @@ print('this is the training code!')\n",
      " print('Some random changes 10')\n",
      " print('Some random changes 8')\n",
      " print('Some random changes 6')\n",
      "+print('Some random changes 4')\n",
      "\n",
      "commit b5251fe84d26fd1b624cf794e3f01854d513a4b5\n",
      "Author: Hossein Sarshar <hossein.sarshar@gmail.com>\n",
      "Date:   Thu Oct 3 21:51:36 2019 -0400\n",
      "\n",
      "    Commit for random change 6\n",
      "\n",
      "diff --git a/training.py b/training.py\n",
      "index ceeaf8b..4c71578 100644\n",
      "--- a/training.py\n",
      "+++ b/training.py\n",
      "@@ -2,3 +2,4 @@ print('this is the training code!')\n",
      " \n",
      " print('Some random changes 10')\n",
      " print('Some random changes 8')\n",
      "+print('Some random changes 6')\n",
      "\n",
      "commit 8408f9c9ec9dcd592fb43702968ddf9eeb7c836c\n",
      "Author: Hossein Sarshar <hossein.sarshar@gmail.com>\n",
      "Date:   Thu Oct 3 21:51:36 2019 -0400\n",
      "\n",
      "    Commit for random change 8\n",
      "\n",
      "diff --git a/training.py b/training.py\n",
      "index defc2a4..ceeaf8b 100644\n",
      "--- a/training.py\n",
      "+++ b/training.py\n",
      "@@ -1,3 +1,4 @@\n",
      " print('this is the training code!')\n",
      " \n",
      " print('Some random changes 10')\n",
      "+print('Some random changes 8')\n",
      "\n",
      "commit 2a84cf144da7d36ddb34cbeb616062c25bea4570\n",
      "Author: Hossein Sarshar <hossein.sarshar@gmail.com>\n",
      "Date:   Thu Oct 3 21:51:36 2019 -0400\n",
      "\n",
      "    Commit for random change 10\n",
      "\n",
      "diff --git a/training.py b/training.py\n",
      "index 1d9e550..defc2a4 100644\n",
      "--- a/training.py\n",
      "+++ b/training.py\n",
      "@@ -1 +1,3 @@\n",
      " print('this is the training code!')\n",
      "+\n",
      "+print('Some random changes 10')\n",
      "\n",
      "commit 296ec6d35e308ac98c33639bbccb8afb2a342afd\n",
      "Author: Hossein Sarshar <hossein.sarshar@gmail.com>\n",
      "Date:   Thu Oct 3 21:46:17 2019 -0400\n",
      "\n",
      "    First commit!\n",
      "\n",
      "diff --git a/training.py b/training.py\n",
      "new file mode 100644\n",
      "index 0000000..1d9e550\n",
      "--- /dev/null\n",
      "+++ b/training.py\n",
      "@@ -0,0 +1 @@\n",
      "+print('this is the training code!')\n"
     ]
    }
   ],
   "source": [
    "%%bash\n",
    "\n",
    "git log --follow -p training.py"
   ]
  },
  {
   "cell_type": "code",
   "execution_count": 52,
   "metadata": {},
   "outputs": [
    {
     "name": "stdout",
     "output_type": "stream",
     "text": [
      "ref: refs/heads/master\n",
      "--------------------------\n",
      "[core]\n",
      "\trepositoryformatversion = 0\n",
      "\tfilemode = false\n",
      "\tbare = false\n",
      "\tlogallrefupdates = true\n",
      "\tignorecase = true\n",
      "--------------------------\n",
      "* master\n"
     ]
    }
   ],
   "source": [
    "%%bash\n",
    "\n",
    "cat .git/HEAD\n",
    "echo \"--------------------------\"\n",
    "git branch -a\n"
   ]
  },
  {
   "cell_type": "markdown",
   "metadata": {},
   "source": [
    "### Link a Remote Repository to our Local Repository"
   ]
  },
  {
   "cell_type": "code",
   "execution_count": 37,
   "metadata": {},
   "outputs": [
    {
     "name": "stdout",
     "output_type": "stream",
     "text": [
      "Microsoft Windows [Version 10.0.15063]\r\n",
      "(c) 2017 Microsoft Corporation. All rights reserved.\r\n",
      "\r\n",
      "(azureml) C:\\Users\\murrayj\\Documents\\mlops>\n",
      "(azureml) C:\\Users\\murrayj\\Documents\\mlops>git remote add upstream https://github.com/murrayjw/mlops_tutorial.git\n",
      "\r\n",
      "(azureml) C:\\Users\\murrayj\\Documents\\mlops>"
     ]
    }
   ],
   "source": [
    "%%cmd\n",
    "\n",
    "git remote add upstream https://github.com/murrayjw/mlops_tutorial.git"
   ]
  },
  {
   "cell_type": "code",
   "execution_count": 38,
   "metadata": {},
   "outputs": [
    {
     "name": "stdout",
     "output_type": "stream",
     "text": [
      "Microsoft Windows [Version 10.0.15063]\r\n",
      "(c) 2017 Microsoft Corporation. All rights reserved.\r\n",
      "\r\n",
      "(azureml) C:\\Users\\murrayj\\Documents\\mlops>git push -u upstream master\n",
      "Branch 'master' set up to track remote branch 'master' from 'upstream'.\n",
      "\r\n",
      "(azureml) C:\\Users\\murrayj\\Documents\\mlops>"
     ]
    },
    {
     "name": "stderr",
     "output_type": "stream",
     "text": [
      "To https://github.com/murrayjw/mlops_tutorial.git\n",
      " * [new branch]      master -> master\n"
     ]
    }
   ],
   "source": [
    "%%cmd\n",
    "git push -u upstream master"
   ]
  },
  {
   "cell_type": "markdown",
   "metadata": {},
   "source": [
    "### Git Issues\n",
    "\n",
    "Plan your project using GitHub Issues (alternatively you can use AzureDevOps Boards, Jira, ...). Associate commits to the issues and close them at Pull Request."
   ]
  },
  {
   "cell_type": "markdown",
   "metadata": {},
   "source": [
    "### Branches\n",
    "\n",
    "For every new change or feature, there should be a new branch aka freature branch."
   ]
  },
  {
   "cell_type": "code",
   "execution_count": 39,
   "metadata": {},
   "outputs": [
    {
     "name": "stdout",
     "output_type": "stream",
     "text": [
      "Microsoft Windows [Version 10.0.15063]\r\n",
      "(c) 2017 Microsoft Corporation. All rights reserved.\r\n",
      "\r\n",
      "(azureml) C:\\Users\\murrayj\\Documents\\mlops>echo \"-- Listing branches --\"\n",
      "\"-- Listing branches --\"\r\n",
      "\r\n",
      "(azureml) C:\\Users\\murrayj\\Documents\\mlops>\n",
      "(azureml) C:\\Users\\murrayj\\Documents\\mlops>git branch -avv\n",
      "* master                  746121b [upstream/master] adding inference logic!\n",
      "  remotes/upstream/master 746121b adding inference logic!\n",
      "\r\n",
      "(azureml) C:\\Users\\murrayj\\Documents\\mlops>"
     ]
    }
   ],
   "source": [
    "%%cmd\n",
    "echo \"-- Listing branches --\"\n",
    "\n",
    "git branch -avv"
   ]
  },
  {
   "cell_type": "code",
   "execution_count": 40,
   "metadata": {},
   "outputs": [
    {
     "name": "stdout",
     "output_type": "stream",
     "text": [
      "Microsoft Windows [Version 10.0.15063]\r\n",
      "(c) 2017 Microsoft Corporation. All rights reserved.\r\n",
      "\r\n",
      "(azureml) C:\\Users\\murrayj\\Documents\\mlops>\n",
      "(azureml) C:\\Users\\murrayj\\Documents\\mlops>git branch hyperparameter-tuning\n",
      "\r\n",
      "(azureml) C:\\Users\\murrayj\\Documents\\mlops>"
     ]
    }
   ],
   "source": [
    "%%cmd\n",
    "\n",
    "git branch hyperparameter-tuning"
   ]
  },
  {
   "cell_type": "code",
   "execution_count": 41,
   "metadata": {},
   "outputs": [
    {
     "name": "stdout",
     "output_type": "stream",
     "text": [
      "Microsoft Windows [Version 10.0.15063]\r\n",
      "(c) 2017 Microsoft Corporation. All rights reserved.\r\n",
      "\r\n",
      "(azureml) C:\\Users\\murrayj\\Documents\\mlops>git status\n",
      "On branch master\n",
      "Your branch is up to date with 'upstream/master'.\n",
      "\n",
      "Changes not staged for commit:\n",
      "  (use \"git add <file>...\" to update what will be committed)\n",
      "  (use \"git checkout -- <file>...\" to discard changes in working directory)\n",
      "\n",
      "\tmodified:   Git_Tutorial.ipynb\n",
      "\n",
      "no changes added to commit (use \"git add\" and/or \"git commit -a\")\n",
      "\r\n",
      "(azureml) C:\\Users\\murrayj\\Documents\\mlops>"
     ]
    }
   ],
   "source": [
    "%%cmd\n",
    "git status"
   ]
  },
  {
   "cell_type": "code",
   "execution_count": 42,
   "metadata": {},
   "outputs": [
    {
     "name": "stdout",
     "output_type": "stream",
     "text": [
      "Microsoft Windows [Version 10.0.15063]\r\n",
      "(c) 2017 Microsoft Corporation. All rights reserved.\r\n",
      "\r\n",
      "(azureml) C:\\Users\\murrayj\\Documents\\mlops>git checkout hyperparameter-tuning\n",
      "M\tGit_Tutorial.ipynb\n",
      "\r\n",
      "(azureml) C:\\Users\\murrayj\\Documents\\mlops>"
     ]
    },
    {
     "name": "stderr",
     "output_type": "stream",
     "text": [
      "Switched to branch 'hyperparameter-tuning'\n"
     ]
    }
   ],
   "source": [
    "%%cmd\n",
    "git checkout hyperparameter-tuning"
   ]
  },
  {
   "cell_type": "code",
   "execution_count": 43,
   "metadata": {},
   "outputs": [
    {
     "name": "stdout",
     "output_type": "stream",
     "text": [
      "Microsoft Windows [Version 10.0.15063]\r\n",
      "(c) 2017 Microsoft Corporation. All rights reserved.\r\n",
      "\r\n",
      "(azureml) C:\\Users\\murrayj\\Documents\\mlops>git status\n",
      "On branch hyperparameter-tuning\n",
      "Changes not staged for commit:\n",
      "  (use \"git add <file>...\" to update what will be committed)\n",
      "  (use \"git checkout -- <file>...\" to discard changes in working directory)\n",
      "\n",
      "\tmodified:   Git_Tutorial.ipynb\n",
      "\n",
      "no changes added to commit (use \"git add\" and/or \"git commit -a\")\n",
      "\r\n",
      "(azureml) C:\\Users\\murrayj\\Documents\\mlops>"
     ]
    }
   ],
   "source": [
    "%%cmd\n",
    "git status"
   ]
  },
  {
   "cell_type": "code",
   "execution_count": 22,
   "metadata": {},
   "outputs": [],
   "source": [
    "%%bash\n",
    "\n",
    "echo \"print('Added the Hyperparameter Tuning to the training code')\" >> training.py\n",
    "# echo \"print('Added the Hyperparameter Tuning to the training code')\" > inference.py"
   ]
  },
  {
   "cell_type": "code",
   "execution_count": 24,
   "metadata": {},
   "outputs": [],
   "source": [
    "%%bash\n",
    "\n",
    "echo \"print('This is the util function')\" > util.py\n",
    "git add ."
   ]
  },
  {
   "cell_type": "code",
   "execution_count": 25,
   "metadata": {},
   "outputs": [
    {
     "name": "stdout",
     "output_type": "stream",
     "text": [
      "[hyperparameter-tuning 8377056] Added the hyperparameter tuning\n",
      " 2 files changed, 2 insertions(+)\n",
      " create mode 100644 util.py\n"
     ]
    }
   ],
   "source": [
    "%%bash\n",
    "\n",
    "git commit -m 'Added the hyperparameter tuning'"
   ]
  },
  {
   "cell_type": "code",
   "execution_count": 28,
   "metadata": {},
   "outputs": [
    {
     "name": "stderr",
     "output_type": "stream",
     "text": [
      "fatal: No configured push destination.\n",
      "Either specify the URL from the command-line or configure a remote repository using\n",
      "\n",
      "    git remote add <name> <url>\n",
      "\n",
      "and then push using the remote name\n",
      "\n",
      "    git push <name>\n",
      "\n"
     ]
    }
   ],
   "source": [
    "%%bash\n",
    "\n",
    "git commit"
   ]
  },
  {
   "cell_type": "code",
   "execution_count": 2,
   "metadata": {},
   "outputs": [
    {
     "name": "stderr",
     "output_type": "stream",
     "text": [
      "fatal: No configured push destination.\n",
      "Either specify the URL from the command-line or configure a remote repository using\n",
      "\n",
      "    git remote add <name> <url>\n",
      "\n",
      "and then push using the remote name\n",
      "\n",
      "    git push <name>\n",
      "\n"
     ]
    }
   ],
   "source": [
    "%%bash\n",
    "\n",
    "git push"
   ]
  },
  {
   "cell_type": "code",
   "execution_count": 29,
   "metadata": {},
   "outputs": [
    {
     "name": "stdout",
     "output_type": "stream",
     "text": [
      "Your branch is up-to-date with 'upstream/master'.\n"
     ]
    },
    {
     "name": "stderr",
     "output_type": "stream",
     "text": [
      "Switched to branch 'master'\n"
     ]
    }
   ],
   "source": [
    "%%bash\n",
    "\n",
    "git checkout master"
   ]
  },
  {
   "cell_type": "code",
   "execution_count": null,
   "metadata": {},
   "outputs": [],
   "source": [
    "%%bash\n",
    "\n",
    "git push"
   ]
  },
  {
   "cell_type": "code",
   "execution_count": 1,
   "metadata": {},
   "outputs": [
    {
     "name": "stderr",
     "output_type": "stream",
     "text": [
      "Switched to branch 'hyperparameter-tuning'\n"
     ]
    }
   ],
   "source": [
    "%%bash\n",
    "\n",
    "git checkout hyperparameter-tuning"
   ]
  },
  {
   "cell_type": "markdown",
   "metadata": {},
   "source": [
    "### Add remote make this branch a tracking branch"
   ]
  },
  {
   "cell_type": "code",
   "execution_count": null,
   "metadata": {},
   "outputs": [],
   "source": [
    "%%bash\n",
    "\n",
    "git push --set-upstream upstream hyperparameter-tuning"
   ]
  },
  {
   "cell_type": "markdown",
   "metadata": {},
   "source": [
    "### Merge the NEW branch into the MASTER branch"
   ]
  },
  {
   "cell_type": "code",
   "execution_count": 1,
   "metadata": {},
   "outputs": [
    {
     "name": "stdout",
     "output_type": "stream",
     "text": [
      "Your branch is up-to-date with 'upstream/master'.\n"
     ]
    },
    {
     "name": "stderr",
     "output_type": "stream",
     "text": [
      "Switched to branch 'master'\n"
     ]
    }
   ],
   "source": [
    "%%bash\n",
    "\n",
    "git checkout master"
   ]
  },
  {
   "cell_type": "code",
   "execution_count": 2,
   "metadata": {},
   "outputs": [
    {
     "name": "stdout",
     "output_type": "stream",
     "text": [
      "Updating 44de4d0..8377056\n",
      "Fast-forward\n",
      " .gitignore  | 1 +\n",
      " training.py | 1 +\n",
      " util.py     | 1 +\n",
      " 3 files changed, 3 insertions(+)\n",
      " create mode 100644 util.py\n"
     ]
    }
   ],
   "source": [
    "%%bash\n",
    "\n",
    "git merge --no-ff hyperparameter-tuning"
   ]
  },
  {
   "cell_type": "code",
   "execution_count": null,
   "metadata": {},
   "outputs": [],
   "source": [
    "%%bash\n",
    "\n",
    "git push"
   ]
  },
  {
   "cell_type": "code",
   "execution_count": 1,
   "metadata": {},
   "outputs": [
    {
     "name": "stderr",
     "output_type": "stream",
     "text": [
      "Switched to a new branch 'hyp-tuning-bo'\n"
     ]
    }
   ],
   "source": [
    "%%bash\n",
    "\n",
    "git checkout -b hyp-tuning-bo"
   ]
  },
  {
   "cell_type": "code",
   "execution_count": 2,
   "metadata": {},
   "outputs": [],
   "source": [
    "%%bash\n",
    "\n",
    "echo \"\"  >> training.py\n",
    "echo \"print('Hyperparameter Tuning Bayesian Optimization')\" >> training.py\n",
    "echo \"\"  >> training.py\n",
    "for value in {1..5..1}\n",
    "do\n",
    "    echo \"print('Some random changes $value')\" >> training.py\n",
    "done"
   ]
  },
  {
   "cell_type": "code",
   "execution_count": 1,
   "metadata": {},
   "outputs": [],
   "source": [
    "%%bash\n",
    "\n",
    "echo \"\" >> training.py\n",
    "echo \"print('Hyperparameter Tuning Bayesian Optimization - Completed')\" >> training.py"
   ]
  },
  {
   "cell_type": "code",
   "execution_count": 2,
   "metadata": {},
   "outputs": [
    {
     "name": "stdout",
     "output_type": "stream",
     "text": [
      "[hyp-tuning-bo 2146172] Updgraded HT with Bayesian Optimization\n",
      " 1 file changed, 2 insertions(+)\n"
     ]
    }
   ],
   "source": [
    "%%bash\n",
    "\n",
    "git add .\n",
    "git commit -m \"Updgraded HT with Bayesian Optimization\""
   ]
  },
  {
   "cell_type": "code",
   "execution_count": null,
   "metadata": {},
   "outputs": [],
   "source": [
    "%%bash\n",
    "\n",
    "git push --set-upstream upstream hyp-tuning-bo"
   ]
  },
  {
   "cell_type": "code",
   "execution_count": 1,
   "metadata": {},
   "outputs": [
    {
     "name": "stdout",
     "output_type": "stream",
     "text": [
      "[core]\n",
      "\trepositoryformatversion = 0\n",
      "\tfilemode = false\n",
      "\tbare = false\n",
      "\tlogallrefupdates = true\n",
      "\tignorecase = true\n",
      "[remote \"upstream\"]\n",
      "\turl = https://github.com/classicboyir/git-crash-course.git\n",
      "\tfetch = +refs/heads/*:refs/remotes/upstream/*\n",
      "[branch \"master\"]\n",
      "\tremote = upstream\n",
      "\tmerge = refs/heads/master\n",
      "[branch \"hyp-tuning-bo\"]\n",
      "\tremote = upstream\n",
      "\tmerge = refs/heads/hyp-tuning-bo\n"
     ]
    }
   ],
   "source": [
    "%%bash\n",
    "\n",
    "cat .git/config"
   ]
  },
  {
   "cell_type": "markdown",
   "metadata": {},
   "source": [
    "### Resolve Conflicts"
   ]
  },
  {
   "cell_type": "markdown",
   "metadata": {},
   "source": [
    "### Create branch from another branch"
   ]
  },
  {
   "cell_type": "code",
   "execution_count": 2,
   "metadata": {},
   "outputs": [
    {
     "name": "stdout",
     "output_type": "stream",
     "text": [
      "M\ttraining.py\n"
     ]
    },
    {
     "name": "stderr",
     "output_type": "stream",
     "text": [
      "Switched to a new branch 'hyp-tuning-bo-ext'\n"
     ]
    }
   ],
   "source": [
    "%%bash\n",
    "\n",
    "git checkout -b hyp-tuning-bo-ext hyp-tuning-bo"
   ]
  },
  {
   "cell_type": "code",
   "execution_count": 3,
   "metadata": {},
   "outputs": [],
   "source": [
    "%%bash\n",
    "\n",
    "echo \"\" >> training.py\n",
    "echo \"print('Hyperparameter Tuning Bayesian Optimization EXTENDED - Completed')\" >> training.py"
   ]
  },
  {
   "cell_type": "code",
   "execution_count": 5,
   "metadata": {},
   "outputs": [
    {
     "name": "stdout",
     "output_type": "stream",
     "text": [
      "[hyp-tuning-bo-ext ede31af] Extended HT with Bayesian Optimization Completed\n",
      " 1 file changed, 4 insertions(+)\n"
     ]
    }
   ],
   "source": [
    "%%bash\n",
    "\n",
    "git add .\n",
    "git commit -m \"Extended HT with Bayesian Optimization Completed\""
   ]
  },
  {
   "cell_type": "code",
   "execution_count": null,
   "metadata": {},
   "outputs": [],
   "source": [
    "%%bash\n",
    "\n",
    "git push --set-upstream upstream hyp-tuning-bo-ext"
   ]
  },
  {
   "cell_type": "markdown",
   "metadata": {},
   "source": [
    "### Pull Request\n",
    "\n",
    "Master/Another Branch <============= Feature Branch"
   ]
  },
  {
   "cell_type": "markdown",
   "metadata": {},
   "source": [
    "### Git Graph"
   ]
  },
  {
   "cell_type": "code",
   "execution_count": 2,
   "metadata": {},
   "outputs": [
    {
     "name": "stdout",
     "output_type": "stream",
     "text": [
      "* bd6cb03 Update azure pipeline config with test file\n",
      "* 9140922 Update azure pipeline config with test file\n",
      "* ab833b5 added test\n",
      "* 2c7ca9d Empty requirements\n",
      "*   3a7bca9 Merge pull request #3 from classicboyir/hyp-tuning-bo-ext\n",
      "|\\  \n",
      "| * 060fcd9 Added requirements.txt\n",
      "* | 8878d80 Set up CI with Azure Pipelines\n",
      "* |   8465442 Merge pull request #2 from classicboyir/hyp-tuning-bo-ext\n",
      "|\\ \\  \n",
      "| |/  \n",
      "| * ede31af Extended HT with Bayesian Optimization Completed\n",
      "* |   a06fe0f Merge pull request #1 from classicboyir/hyp-tuning-bo\n",
      "|\\ \\  \n",
      "| |/  \n",
      "| * 2146172 Updgraded HT with Bayesian Optimization\n",
      "| * 6ae1434 Updgraded HT with Bayesian Optimization\n",
      "|/  \n",
      "* 8377056 Added the hyperparameter tuning\n",
      "* 3e61ecc updating ignorefile\n",
      "* 44de4d0 Commit for random change 0\n",
      "* 0d1f4be Commit for random change 2\n",
      "* dd1851e Commit for random change 4\n",
      "* b5251fe Commit for random change 6\n",
      "* 8408f9c Commit for random change 8\n",
      "* 2a84cf1 Commit for random change 10\n",
      "* 36b433c adding inference logic!\n",
      "* 296ec6d First commit!\n"
     ]
    }
   ],
   "source": [
    "%%bash\n",
    "\n",
    "git log --oneline --graph"
   ]
  },
  {
   "cell_type": "markdown",
   "metadata": {},
   "source": [
    "### Git Graph VSCode Extension"
   ]
  },
  {
   "cell_type": "code",
   "execution_count": 5,
   "metadata": {},
   "outputs": [
    {
     "name": "stdout",
     "output_type": "stream",
     "text": [
      "bd6cb03 Update azure pipeline config with test file\n",
      "9140922 Update azure pipeline config with test file\n",
      "ab833b5 added test\n",
      "2c7ca9d Empty requirements\n",
      "3a7bca9 Merge pull request #3 from classicboyir/hyp-tuning-bo-ext\n",
      "060fcd9 Added requirements.txt\n",
      "8878d80 Set up CI with Azure Pipelines\n",
      "8465442 Merge pull request #2 from classicboyir/hyp-tuning-bo-ext\n",
      "ede31af Extended HT with Bayesian Optimization Completed\n",
      "a06fe0f Merge pull request #1 from classicboyir/hyp-tuning-bo\n",
      "2146172 Updgraded HT with Bayesian Optimization\n",
      "6ae1434 Updgraded HT with Bayesian Optimization\n",
      "8377056 Added the hyperparameter tuning\n",
      "3e61ecc updating ignorefile\n",
      "44de4d0 Commit for random change 0\n",
      "0d1f4be Commit for random change 2\n",
      "dd1851e Commit for random change 4\n",
      "b5251fe Commit for random change 6\n",
      "8408f9c Commit for random change 8\n",
      "2a84cf1 Commit for random change 10\n",
      "36b433c adding inference logic!\n",
      "296ec6d First commit!\n"
     ]
    }
   ],
   "source": [
    "%%bash\n",
    "git log --oneline"
   ]
  },
  {
   "cell_type": "code",
   "execution_count": 9,
   "metadata": {
    "scrolled": false
   },
   "outputs": [
    {
     "name": "stdout",
     "output_type": "stream",
     "text": [
      "commit 83770567c95795aa3d199fbd2701dab439923d60\n",
      "Author: Hossein Sarshar <hossein.sarshar@gmail.com>\n",
      "Date:   Thu Oct 3 23:31:51 2019 -0400\n",
      "\n",
      "    Added the hyperparameter tuning\n",
      "\n",
      "diff --git a/training.py b/training.py\n",
      "index 3227014..ff3bd02 100644\n",
      "--- a/training.py\n",
      "+++ b/training.py\n",
      "@@ -6,3 +6,4 @@ print('Some random changes 6')\n",
      " print('Some random changes 4')\n",
      " print('Some random changes 2')\n",
      " print('Some random changes 0')\n",
      "+print('Added the Hyperparameter Tuning to the training code')\n",
      "diff --git a/util.py b/util.py\n",
      "new file mode 100644\n",
      "index 0000000..03498fc\n",
      "--- /dev/null\n",
      "+++ b/util.py\n",
      "@@ -0,0 +1 @@\n",
      "+print('This is the util function')\n"
     ]
    }
   ],
   "source": [
    "%%bash\n",
    "git show hyperparameter-tuning"
   ]
  },
  {
   "cell_type": "code",
   "execution_count": 11,
   "metadata": {},
   "outputs": [
    {
     "name": "stdout",
     "output_type": "stream",
     "text": [
      "commit bd6cb037c8a020eeac9c9deca507ecccf8866917\n",
      "Author: Hossein Sarshar <hossein.sarshar@gmail.com>\n",
      "Date:   Sat Oct 5 19:35:36 2019 -0400\n",
      "\n",
      "    Update azure pipeline config with test file\n"
     ]
    }
   ],
   "source": [
    "%%bash\n",
    "git log -1"
   ]
  },
  {
   "cell_type": "markdown",
   "metadata": {},
   "source": [
    "### Create Continue Integration (CI) Pipeline\n",
    "\n",
    "* Add requirements.txt\n",
    "* Add a simple unit test\n",
    "* Create an Azure DevOps project (instructions are in the Deck)\n",
    "* Create a DevOps pipeline (instructions are in the Deck)"
   ]
  },
  {
   "cell_type": "code",
   "execution_count": null,
   "metadata": {},
   "outputs": [],
   "source": [
    "##bash\n",
    "\n",
    "echo \"\" >> requirements.txt"
   ]
  },
  {
   "cell_type": "code",
   "execution_count": 1,
   "metadata": {},
   "outputs": [],
   "source": [
    "%%bash\n",
    "\n",
    "mkdir tests"
   ]
  },
  {
   "cell_type": "code",
   "execution_count": 5,
   "metadata": {},
   "outputs": [],
   "source": [
    "%%bash\n",
    "\n",
    "echo \"def test_example6():\" > tests/my_unit_tests.py\n",
    "echo \"   assert 3 == 3\" >> tests/my_unit_tests.py"
   ]
  },
  {
   "cell_type": "markdown",
   "metadata": {},
   "source": [
    "### Homework\n",
    "\n",
    "* Create a repo with Master, Release and Development Branches.\n",
    "* Create separate Build Pipelines for Pull Request into each of the defined branches\n",
    "* Add the Azure DevOps pipeline badge for the github repo\n",
    "* Add a new failed test e.g. (assert 1==2) to observe how the pipeline fails"
   ]
  },
  {
   "cell_type": "code",
   "execution_count": null,
   "metadata": {},
   "outputs": [],
   "source": []
  }
 ],
 "metadata": {
  "kernelspec": {
   "display_name": "Python 3",
   "language": "python",
   "name": "python3"
  },
  "language_info": {
   "codemirror_mode": {
    "name": "ipython",
    "version": 3
   },
   "file_extension": ".py",
   "mimetype": "text/x-python",
   "name": "python",
   "nbconvert_exporter": "python",
   "pygments_lexer": "ipython3",
   "version": "3.7.4"
  }
 },
 "nbformat": 4,
 "nbformat_minor": 2
}
